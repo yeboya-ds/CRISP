{
 "cells": [
  {
   "cell_type": "code",
   "execution_count": 3,
   "id": "2699c29c-f74a-4c74-965b-ef4868667644",
   "metadata": {},
   "outputs": [],
   "source": [
    "import pandas as pd\n",
    "\n",
    "# Load the Excel file (change 'your_file.xlsx' to your actual file path)\n",
    "file_path = r\"C:\\Users\\bye\\OneDrive - County of San Mateo\\Desktop\\0.CRISP\\Final Results\\Email Finalist\\CRISP_final9.xlsx\"\n",
    "\n",
    "# Load all sheets as a dictionary of DataFrames\n",
    "sheets = pd.read_excel(file_path, sheet_name=None)\n"
   ]
  },
  {
   "cell_type": "code",
   "execution_count": 11,
   "id": "985b65ab-d224-4dfc-8a87-b14bdacd50a3",
   "metadata": {},
   "outputs": [
    {
     "data": {
      "text/html": [
       "<div>\n",
       "<style scoped>\n",
       "    .dataframe tbody tr th:only-of-type {\n",
       "        vertical-align: middle;\n",
       "    }\n",
       "\n",
       "    .dataframe tbody tr th {\n",
       "        vertical-align: top;\n",
       "    }\n",
       "\n",
       "    .dataframe thead th {\n",
       "        text-align: right;\n",
       "    }\n",
       "</style>\n",
       "<table border=\"1\" class=\"dataframe\">\n",
       "  <thead>\n",
       "    <tr style=\"text-align: right;\">\n",
       "      <th></th>\n",
       "      <th>Project Name</th>\n",
       "      <th>Project ID</th>\n",
       "      <th>POC Email Address</th>\n",
       "      <th>Project Point of Contact</th>\n",
       "      <th>Tier</th>\n",
       "    </tr>\n",
       "  </thead>\n",
       "  <tbody>\n",
       "    <tr>\n",
       "      <th>0</th>\n",
       "      <td>Rebuild Pilarcitos Dams</td>\n",
       "      <td>MCC37</td>\n",
       "      <td>none</td>\n",
       "      <td>none</td>\n",
       "      <td>1</td>\n",
       "    </tr>\n",
       "    <tr>\n",
       "      <th>1</th>\n",
       "      <td>Fassler Tank Replacement and Enlargement Project</td>\n",
       "      <td>AGOL37</td>\n",
       "      <td>acarr@nccwd.com</td>\n",
       "      <td>Adrianne Carr</td>\n",
       "      <td>1</td>\n",
       "    </tr>\n",
       "    <tr>\n",
       "      <th>2</th>\n",
       "      <td>Half Moon Bay Water Tank Replacement Project</td>\n",
       "      <td>AGOL05</td>\n",
       "      <td>mrogren@coastsidewater.org</td>\n",
       "      <td>Mary Rogren - General Manager, Coastside Count...</td>\n",
       "      <td>1</td>\n",
       "    </tr>\n",
       "    <tr>\n",
       "      <th>3</th>\n",
       "      <td>More wet weather storage for SAM Intertie Pipe...</td>\n",
       "      <td>MCC02</td>\n",
       "      <td>none</td>\n",
       "      <td>none</td>\n",
       "      <td>1</td>\n",
       "    </tr>\n",
       "    <tr>\n",
       "      <th>4</th>\n",
       "      <td>Pescadero Highway 1 Corridor Sea Level Rise an...</td>\n",
       "      <td>AGOL07</td>\n",
       "      <td>sara@sanmateoRCD.org</td>\n",
       "      <td>Sara Polgar</td>\n",
       "      <td>1</td>\n",
       "    </tr>\n",
       "  </tbody>\n",
       "</table>\n",
       "</div>"
      ],
      "text/plain": [
       "                                        Project Name Project ID  \\\n",
       "0                            Rebuild Pilarcitos Dams      MCC37   \n",
       "1   Fassler Tank Replacement and Enlargement Project     AGOL37   \n",
       "2       Half Moon Bay Water Tank Replacement Project     AGOL05   \n",
       "3  More wet weather storage for SAM Intertie Pipe...      MCC02   \n",
       "4  Pescadero Highway 1 Corridor Sea Level Rise an...     AGOL07   \n",
       "\n",
       "            POC Email Address  \\\n",
       "0                        none   \n",
       "1             acarr@nccwd.com   \n",
       "2  mrogren@coastsidewater.org   \n",
       "3                        none   \n",
       "4        sara@sanmateoRCD.org   \n",
       "\n",
       "                            Project Point of Contact  Tier  \n",
       "0                                               none     1  \n",
       "1                                      Adrianne Carr     1  \n",
       "2  Mary Rogren - General Manager, Coastside Count...     1  \n",
       "3                                               none     1  \n",
       "4                                        Sara Polgar     1  "
      ]
     },
     "execution_count": 11,
     "metadata": {},
     "output_type": "execute_result"
    }
   ],
   "source": [
    "# Define the columns you want from each sheet\n",
    "columns_to_extract = {\n",
    "    \"CRISP_tier 1_v2_20250219\": [\"Project Name\", \"Project ID\", \"POC Email Address\", \"Project Point of Contact\", \"Tier\"], \n",
    "    \"CRISP_tier 2_v2_20250219\": [\"Project Name\", \"Project ID\", \"POC Email Address\", \"Project Point of Contact\", \"Tier\"],\n",
    "    \"CRISP_tier 3_v1_20250219\": [\"Project Name\", \"Project ID\",  \"POC Email Address\", \"Project Point of Contact\", \"Tier\"]\n",
    "}\n",
    "\n",
    "# Extract data and store in a new dictionary\n",
    "extracted_data = {sheet: sheets[sheet][columns] for sheet, columns in columns_to_extract.items()}\n",
    "\n",
    "# Display extracted data from a specific sheet (e.g., \"Sheet1\")\n",
    "extracted_data[\"CRISP_tier 1_v2_20250219\"].head()\n"
   ]
  },
  {
   "cell_type": "code",
   "execution_count": 12,
   "id": "4cc02efe-5a73-4eb7-9c8f-8edae25e8932",
   "metadata": {},
   "outputs": [
    {
     "name": "stdout",
     "output_type": "stream",
     "text": [
      "File saved at: C:\\Users\\bye\\OneDrive - County of San Mateo\\Desktop\\0.CRISP\\Final Results\\Email Finalist\\email_finalist.xlsx\n"
     ]
    }
   ],
   "source": [
    "with pd.ExcelWriter(\"extracted_data.xlsx\") as writer:\n",
    "    for sheet, df in extracted_data.items():\n",
    "        df.to_excel(writer, sheet_name=sheet, index=False)\n",
    "output_path = r\"C:\\Users\\bye\\OneDrive - County of San Mateo\\Desktop\\0.CRISP\\Final Results\\Email Finalist\\email_finalist.xlsx\"\n",
    "\n",
    "with pd.ExcelWriter(output_path) as writer:\n",
    "    for sheet, df in extracted_data.items():\n",
    "        df.to_excel(writer, sheet_name=sheet, index=False)\n",
    "\n",
    "print(f\"File saved at: {output_path}\")"
   ]
  },
  {
   "cell_type": "code",
   "execution_count": 19,
   "id": "9f22756c-7219-4de7-8263-c0a8911b93fa",
   "metadata": {},
   "outputs": [
    {
     "name": "stdout",
     "output_type": "stream",
     "text": [
      "Filtered data saved at: C:\\Users\\bye\\OneDrive - County of San Mateo\\Desktop\\0.CRISP\\Final Results\\Email Finalist\\missing.xlsx\n"
     ]
    }
   ],
   "source": [
    "# Define the output file path\n",
    "output_path_missing = r\"C:\\Users\\bye\\OneDrive - County of San Mateo\\Desktop\\0.CRISP\\Final Results\\Email Finalist\\missing.xlsx\"\n",
    "\n",
    "# Dictionary to store filtered data\n",
    "filtered_data = {}\n",
    "\n",
    "# Apply filtering to all sheets\n",
    "for sheet, df in sheets.items():\n",
    "    # Filter rows where \"POC Email Address\" is NaN, blank, or \"none\" (case-insensitive)\n",
    "    filtered_data[sheet] = df[df[\"POC Email Address\"].isna() | \n",
    "                              (df[\"POC Email Address\"] == \"\") | \n",
    "                              (df[\"POC Email Address\"].str.lower() == \"none\")]\n",
    "# Save the filtered data to an Excel file\n",
    "with pd.ExcelWriter(output_path_missing) as writer:\n",
    "    for sheet, df in filtered_data.items():\n",
    "        df.to_excel(writer, sheet_name=sheet, index=False)\n",
    "\n",
    "print(f\"Filtered data saved at: {output_path_missing}\")\n"
   ]
  },
  {
   "cell_type": "code",
   "execution_count": 18,
   "id": "fcc08555-2865-4136-a728-4a5b300344a0",
   "metadata": {},
   "outputs": [
    {
     "name": "stdout",
     "output_type": "stream",
     "text": [
      "Sheet: CRISP_tier 1_v2_20250219, Rows with missing emails: 5\n",
      "Sheet: CRISP_tier 2_v2_20250219, Rows with missing emails: 6\n",
      "Sheet: CRISP_tier 3_v1_20250219, Rows with missing emails: 27\n"
     ]
    }
   ],
   "source": [
    "for sheet, df in filtered_data.items():\n",
    "    print(f\"Sheet: {sheet}, Rows with missing emails: {len(df)}\")"
   ]
  },
  {
   "cell_type": "code",
   "execution_count": null,
   "id": "ab2bc24a-4535-40e3-96ec-385021f04224",
   "metadata": {},
   "outputs": [],
   "source": []
  }
 ],
 "metadata": {
  "kernelspec": {
   "display_name": "Python 3 (ipykernel)",
   "language": "python",
   "name": "python3"
  },
  "language_info": {
   "codemirror_mode": {
    "name": "ipython",
    "version": 3
   },
   "file_extension": ".py",
   "mimetype": "text/x-python",
   "name": "python",
   "nbconvert_exporter": "python",
   "pygments_lexer": "ipython3",
   "version": "3.12.7"
  }
 },
 "nbformat": 4,
 "nbformat_minor": 5
}
